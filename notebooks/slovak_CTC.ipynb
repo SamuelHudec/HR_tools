{
 "cells": [
  {
   "cell_type": "markdown",
   "id": "24143682-452c-41a6-8ebc-b0d8a44e28f2",
   "metadata": {},
   "source": [
    "# convertor\n",
    "from any format to .wav 16khz mono 16bit"
   ]
  },
  {
   "cell_type": "code",
   "execution_count": null,
   "id": "573e4823-9e6f-43aa-a89a-cbbb3ad24a55",
   "metadata": {},
   "outputs": [],
   "source": [
    "import os \n",
    "from pydub import AudioSegment\n",
    "\n",
    "src_format = \"m4a\"\n",
    "src = f\"data/samuel.{src_format}\"\n",
    "des = src.replace(src_format,'wav')\n",
    "sound = AudioSegment.from_file(src, format=src_format)\n",
    "sound = sound.set_frame_rate(16000)\n",
    "sound.export(des, format=\"wav\")"
   ]
  },
  {
   "cell_type": "markdown",
   "id": "298b4d7b-592d-41aa-8468-9126d1f18cdd",
   "metadata": {},
   "source": [
    "# model predict\n",
    "\n",
    "modelov je habadej, su pod skratkami speach recognition, s2t, stt ...\n",
    "\n",
    "single language models\n",
    "- infinitejoy/wav2vec2-large-xls-r-300m-slovak\n",
    "- facebook/wav2vec2-base-sk-voxpopuli-v2 nejde treba zistiť prečo\n",
    "\n",
    "multilingual:\n",
    "- voidful/wav2vec2-xlsr-multilingual-56"
   ]
  },
  {
   "cell_type": "code",
   "execution_count": null,
   "id": "3f09f4e1-59a6-43a5-866c-0be24ae3702c",
   "metadata": {},
   "outputs": [],
   "source": [
    "from glob import glob\n",
    "import librosa\n",
    "import torch"
   ]
  },
  {
   "cell_type": "code",
   "execution_count": null,
   "id": "77c7e9dd-7807-4c4a-bd17-54d1e4bb3896",
   "metadata": {},
   "outputs": [],
   "source": [
    "audio_files = glob('data/samuel.wav')"
   ]
  },
  {
   "cell_type": "code",
   "execution_count": null,
   "id": "d9756f51-ce08-4abd-8dba-38d31229e675",
   "metadata": {},
   "outputs": [],
   "source": [
    "y, sr = librosa.load(audio_files[0], sr=16000)\n",
    "print(f'y: {y[:10]}')\n",
    "print(f'shape y: {y.shape}')\n",
    "print(f'sr: {sr}')"
   ]
  },
  {
   "cell_type": "code",
   "execution_count": null,
   "id": "547c9ed3-8b93-40de-bcef-6d3a08ad94fe",
   "metadata": {},
   "outputs": [],
   "source": [
    "# Load model directly\n",
    "from transformers import AutoProcessor, AutoModelForCTC\n",
    "model_path = \"infinitejoy/wav2vec2-large-xls-r-300m-slovak\"\n",
    "processor = AutoProcessor.from_pretrained(model_path)\n",
    "model = AutoModelForCTC.from_pretrained(model_path)"
   ]
  },
  {
   "cell_type": "code",
   "execution_count": null,
   "id": "d329cf8f-fc03-4bf4-ab5c-5e3c82d0f0dc",
   "metadata": {},
   "outputs": [],
   "source": [
    "input_dict = processor(y, sampling_rate=sr, return_tensors=\"pt\", padding=True)"
   ]
  },
  {
   "cell_type": "code",
   "execution_count": null,
   "id": "c1bc0b9f-b790-4bc0-89cd-75802b907805",
   "metadata": {},
   "outputs": [],
   "source": [
    "logits = model(input_dict.input_values).logits\n",
    "pred_ids = torch.argmax(logits, dim=-1)[0]"
   ]
  },
  {
   "cell_type": "code",
   "execution_count": null,
   "id": "bb063ce7-b550-4638-a7ad-602358840139",
   "metadata": {},
   "outputs": [],
   "source": [
    "print(processor.decode(pred_ids))"
   ]
  },
  {
   "cell_type": "code",
   "execution_count": null,
   "id": "a85ef8ba-f462-4860-9487-32f2f0816965",
   "metadata": {},
   "outputs": [],
   "source": []
  }
 ],
 "metadata": {
  "kernelspec": {
   "display_name": "Python 3 (ipykernel)",
   "language": "python",
   "name": "python3"
  },
  "language_info": {
   "codemirror_mode": {
    "name": "ipython",
    "version": 3
   },
   "file_extension": ".py",
   "mimetype": "text/x-python",
   "name": "python",
   "nbconvert_exporter": "python",
   "pygments_lexer": "ipython3",
   "version": "3.9.12"
  }
 },
 "nbformat": 4,
 "nbformat_minor": 5
}
